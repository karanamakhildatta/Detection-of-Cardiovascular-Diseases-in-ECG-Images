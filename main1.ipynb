{
 "cells": [
  {
   "cell_type": "code",
   "execution_count": 43,
   "metadata": {},
   "outputs": [
    {
     "name": "stderr",
     "output_type": "stream",
     "text": [
      "c:\\Users\\akhil\\AppData\\Local\\Programs\\Python\\Python38\\lib\\site-packages\\tensorflow\\python\\client\\session.py:1769: UserWarning: An interactive session is already active. This can cause out-of-memory errors in some cases. You must explicitly call `InteractiveSession.close()` to release resources held by the other session(s).\n",
      "  warnings.warn('An interactive session is already active. This can '\n"
     ]
    }
   ],
   "source": [
    "from tensorflow.compat.v1 import ConfigProto\n",
    "from tensorflow.compat.v1 import InteractiveSession\n",
    "\n",
    "config = ConfigProto()\n",
    "config.gpu_options.per_process_gpu_memory_fraction = 0.5\n",
    "config.gpu_options.allow_growth = True\n",
    "session = InteractiveSession(config=config)"
   ]
  },
  {
   "cell_type": "code",
   "execution_count": 44,
   "metadata": {},
   "outputs": [],
   "source": [
    "from tensorflow.keras.layers import Input, Lambda, Dense, Flatten\n",
    "from tensorflow.keras.models import Model\n",
    "from keras.applications.vgg19 import VGG19\n",
    "\n",
    "from tensorflow.keras.preprocessing import image\n",
    "from tensorflow.keras.preprocessing.image import ImageDataGenerator,load_img\n",
    "from tensorflow.keras.models import Sequential\n",
    "import numpy as np\n",
    "from glob import glob"
   ]
  },
  {
   "cell_type": "code",
   "execution_count": 45,
   "metadata": {},
   "outputs": [],
   "source": [
    "# re-size all the images to this\n",
    "IMAGE_SIZE = [224,224]\n",
    "vgg19 = VGG19(input_shape=IMAGE_SIZE + [3], weights='imagenet', include_top=False)\n"
   ]
  },
  {
   "cell_type": "code",
   "execution_count": 46,
   "metadata": {},
   "outputs": [
    {
     "data": {
      "text/plain": [
       "['Datasets\\\\ECG Images of Myocardial Infarction Patients (240x12=2880)',\n",
       " 'Datasets\\\\ECG Images of Patient that have abnormal heartbeat (233x12=2796)',\n",
       " 'Datasets\\\\ECG Images of Patient that have History of MI (172x12=2064)',\n",
       " 'Datasets\\\\Normal Person ECG Images (284x12=3408)']"
      ]
     },
     "execution_count": 46,
     "metadata": {},
     "output_type": "execute_result"
    }
   ],
   "source": [
    "for layer in vgg19.layers:\n",
    "    layer.trainable = False\n",
    "\n",
    "folders = glob('Datasets/*')"
   ]
  },
  {
   "cell_type": "code",
   "execution_count": 47,
   "metadata": {},
   "outputs": [],
   "source": [
    "x = Flatten()(vgg19.output)\n",
    "prediction = Dense(len(folders), activation='softmax')(x)\n",
    "# create a model object\n",
    "model = Model(inputs=vgg19.input, outputs=prediction)"
   ]
  },
  {
   "cell_type": "code",
   "execution_count": 48,
   "metadata": {},
   "outputs": [
    {
     "name": "stdout",
     "output_type": "stream",
     "text": [
      "Model: \"model_4\"\n",
      "_________________________________________________________________\n",
      " Layer (type)                Output Shape              Param #   \n",
      "=================================================================\n",
      " input_8 (InputLayer)        [(None, 224, 224, 3)]     0         \n",
      "                                                                 \n",
      " block1_conv1 (Conv2D)       (None, 224, 224, 64)      1792      \n",
      "                                                                 \n",
      " block1_conv2 (Conv2D)       (None, 224, 224, 64)      36928     \n",
      "                                                                 \n",
      " block1_pool (MaxPooling2D)  (None, 112, 112, 64)      0         \n",
      "                                                                 \n",
      " block2_conv1 (Conv2D)       (None, 112, 112, 128)     73856     \n",
      "                                                                 \n",
      " block2_conv2 (Conv2D)       (None, 112, 112, 128)     147584    \n",
      "                                                                 \n",
      " block2_pool (MaxPooling2D)  (None, 56, 56, 128)       0         \n",
      "                                                                 \n",
      " block3_conv1 (Conv2D)       (None, 56, 56, 256)       295168    \n",
      "                                                                 \n",
      " block3_conv2 (Conv2D)       (None, 56, 56, 256)       590080    \n",
      "                                                                 \n",
      " block3_conv3 (Conv2D)       (None, 56, 56, 256)       590080    \n",
      "                                                                 \n",
      " block3_conv4 (Conv2D)       (None, 56, 56, 256)       590080    \n",
      "                                                                 \n",
      " block3_pool (MaxPooling2D)  (None, 28, 28, 256)       0         \n",
      "                                                                 \n",
      " block4_conv1 (Conv2D)       (None, 28, 28, 512)       1180160   \n",
      "                                                                 \n",
      " block4_conv2 (Conv2D)       (None, 28, 28, 512)       2359808   \n",
      "                                                                 \n",
      " block4_conv3 (Conv2D)       (None, 28, 28, 512)       2359808   \n",
      "                                                                 \n",
      " block4_conv4 (Conv2D)       (None, 28, 28, 512)       2359808   \n",
      "                                                                 \n",
      " block4_pool (MaxPooling2D)  (None, 14, 14, 512)       0         \n",
      "                                                                 \n",
      " block5_conv1 (Conv2D)       (None, 14, 14, 512)       2359808   \n",
      "                                                                 \n",
      " block5_conv2 (Conv2D)       (None, 14, 14, 512)       2359808   \n",
      "                                                                 \n",
      " block5_conv3 (Conv2D)       (None, 14, 14, 512)       2359808   \n",
      "                                                                 \n",
      " block5_conv4 (Conv2D)       (None, 14, 14, 512)       2359808   \n",
      "                                                                 \n",
      " block5_pool (MaxPooling2D)  (None, 7, 7, 512)         0         \n",
      "                                                                 \n",
      " flatten_4 (Flatten)         (None, 25088)             0         \n",
      "                                                                 \n",
      " dense_4 (Dense)             (None, 4)                 100356    \n",
      "                                                                 \n",
      "=================================================================\n",
      "Total params: 20,124,740\n",
      "Trainable params: 100,356\n",
      "Non-trainable params: 20,024,384\n",
      "_________________________________________________________________\n"
     ]
    }
   ],
   "source": [
    "model.summary()"
   ]
  },
  {
   "cell_type": "code",
   "execution_count": 49,
   "metadata": {},
   "outputs": [
    {
     "name": "stdout",
     "output_type": "stream",
     "text": [
      "Found 929 files belonging to 4 classes.\n",
      "Using 744 files for training.\n",
      "Found 929 files belonging to 4 classes.\n",
      "Using 185 files for validation.\n"
     ]
    }
   ],
   "source": [
    "from tensorflow.keras.preprocessing import image_dataset_from_directory\n",
    "import tensorflow as tf\n",
    "a = tf.keras.optimizers.Adam(\n",
    "    learning_rate=0.001,\n",
    "    beta_1=0.9,\n",
    "    beta_2=0.999,\n",
    "    epsilon=1e-07,\n",
    "    amsgrad=False\n",
    ")\n",
    "model.compile(\n",
    "  loss='categorical_crossentropy',\n",
    "  optimizer=a,\n",
    "  metrics=['accuracy']\n",
    ")\n",
    "\n",
    "\n",
    "train_path = './Datasets'\n",
    "training_set = image_dataset_from_directory(train_path,\n",
    "                                                 image_size = (224, 224),\n",
    "                                                 batch_size = 32,\n",
    "                                                 label_mode = 'categorical',\n",
    "                                                 validation_split=0.2,\n",
    "                                            subset=\"training\",\n",
    "                                            seed=123)\n",
    "validation = image_dataset_from_directory(train_path,\n",
    "                                                 image_size = (224, 224),\n",
    "                                                 batch_size = 32,\n",
    "                                                 label_mode = 'categorical',\n",
    "                                                 validation_split=0.2,\n",
    "                                            subset=\"validation\",\n",
    "                                            seed=123)"
   ]
  },
  {
   "cell_type": "code",
   "execution_count": 50,
   "metadata": {},
   "outputs": [
    {
     "name": "stdout",
     "output_type": "stream",
     "text": [
      "Epoch 1/50\n"
     ]
    },
    {
     "name": "stderr",
     "output_type": "stream",
     "text": [
      "<ipython-input-50-afdf2c9e04a2>:4: UserWarning: `Model.fit_generator` is deprecated and will be removed in a future version. Please use `Model.fit`, which supports generators.\n",
      "  r = model.fit_generator(\n"
     ]
    },
    {
     "name": "stdout",
     "output_type": "stream",
     "text": [
      "24/24 [==============================] - 146s 6s/step - loss: 4.5234 - accuracy: 0.2876 - val_loss: 3.3541 - val_accuracy: 0.3730\n",
      "Epoch 2/50\n",
      "24/24 [==============================] - 212s 9s/step - loss: 1.9826 - accuracy: 0.5215 - val_loss: 2.3288 - val_accuracy: 0.4486\n",
      "Epoch 3/50\n",
      "24/24 [==============================] - 176s 7s/step - loss: 1.3216 - accuracy: 0.6290 - val_loss: 1.3157 - val_accuracy: 0.6541\n",
      "Epoch 4/50\n",
      "24/24 [==============================] - 174s 7s/step - loss: 0.7542 - accuracy: 0.7648 - val_loss: 0.9961 - val_accuracy: 0.6919\n",
      "Epoch 5/50\n",
      "24/24 [==============================] - 201s 8s/step - loss: 0.6335 - accuracy: 0.7836 - val_loss: 1.2247 - val_accuracy: 0.6162\n",
      "Epoch 6/50\n",
      "24/24 [==============================] - 183s 8s/step - loss: 0.4537 - accuracy: 0.8414 - val_loss: 0.6824 - val_accuracy: 0.8270\n",
      "Epoch 7/50\n",
      "24/24 [==============================] - 171s 7s/step - loss: 0.3034 - accuracy: 0.9005 - val_loss: 0.6279 - val_accuracy: 0.8108\n",
      "Epoch 8/50\n",
      "24/24 [==============================] - 172s 7s/step - loss: 0.2464 - accuracy: 0.9234 - val_loss: 0.6625 - val_accuracy: 0.8432\n",
      "Epoch 9/50\n",
      "24/24 [==============================] - 171s 7s/step - loss: 0.2001 - accuracy: 0.9328 - val_loss: 0.4634 - val_accuracy: 0.8649\n",
      "Epoch 10/50\n",
      "24/24 [==============================] - 169s 7s/step - loss: 0.1863 - accuracy: 0.9449 - val_loss: 0.4480 - val_accuracy: 0.8757\n",
      "Epoch 11/50\n",
      "24/24 [==============================] - 177s 7s/step - loss: 0.1407 - accuracy: 0.9543 - val_loss: 0.4643 - val_accuracy: 0.9081\n",
      "Epoch 12/50\n",
      "24/24 [==============================] - 150s 6s/step - loss: 0.1168 - accuracy: 0.9651 - val_loss: 0.4745 - val_accuracy: 0.8811\n",
      "Epoch 13/50\n",
      "24/24 [==============================] - 144s 6s/step - loss: 0.0806 - accuracy: 0.9825 - val_loss: 0.4346 - val_accuracy: 0.8865\n",
      "Epoch 14/50\n",
      "24/24 [==============================] - 145s 6s/step - loss: 0.0822 - accuracy: 0.9812 - val_loss: 0.4309 - val_accuracy: 0.8919\n",
      "Epoch 15/50\n",
      "24/24 [==============================] - 145s 6s/step - loss: 0.0584 - accuracy: 0.9919 - val_loss: 0.4089 - val_accuracy: 0.8973\n",
      "Epoch 16/50\n",
      "24/24 [==============================] - 153s 6s/step - loss: 0.0762 - accuracy: 0.9852 - val_loss: 0.3913 - val_accuracy: 0.9351\n",
      "Epoch 17/50\n",
      "24/24 [==============================] - 147s 6s/step - loss: 0.0490 - accuracy: 0.9946 - val_loss: 0.3411 - val_accuracy: 0.9297\n",
      "Epoch 18/50\n",
      "24/24 [==============================] - 147s 6s/step - loss: 0.0692 - accuracy: 0.9852 - val_loss: 0.4314 - val_accuracy: 0.9081\n",
      "Epoch 19/50\n",
      "24/24 [==============================] - 146s 6s/step - loss: 0.0433 - accuracy: 0.9946 - val_loss: 0.3343 - val_accuracy: 0.9297\n",
      "Epoch 20/50\n",
      "24/24 [==============================] - 146s 6s/step - loss: 0.0369 - accuracy: 0.9960 - val_loss: 0.3702 - val_accuracy: 0.9135\n",
      "Epoch 21/50\n",
      "24/24 [==============================] - 150s 6s/step - loss: 0.0349 - accuracy: 0.9973 - val_loss: 0.3737 - val_accuracy: 0.9297\n",
      "Epoch 22/50\n",
      "24/24 [==============================] - 147s 6s/step - loss: 0.0279 - accuracy: 0.9960 - val_loss: 0.3263 - val_accuracy: 0.9297\n",
      "Epoch 23/50\n",
      "24/24 [==============================] - 146s 6s/step - loss: 0.0258 - accuracy: 0.9987 - val_loss: 0.3036 - val_accuracy: 0.9459\n",
      "Epoch 24/50\n",
      "24/24 [==============================] - 146s 6s/step - loss: 0.0256 - accuracy: 0.9960 - val_loss: 0.3654 - val_accuracy: 0.9297\n",
      "Epoch 25/50\n",
      "24/24 [==============================] - 148s 6s/step - loss: 0.0296 - accuracy: 0.9960 - val_loss: 0.3655 - val_accuracy: 0.9297\n",
      "Epoch 26/50\n",
      "24/24 [==============================] - 147s 6s/step - loss: 0.0219 - accuracy: 1.0000 - val_loss: 0.3878 - val_accuracy: 0.9189\n",
      "Epoch 27/50\n",
      "24/24 [==============================] - 150s 6s/step - loss: 0.0189 - accuracy: 1.0000 - val_loss: 0.3623 - val_accuracy: 0.9297\n",
      "Epoch 28/50\n",
      "24/24 [==============================] - 150s 6s/step - loss: 0.0192 - accuracy: 1.0000 - val_loss: 0.3050 - val_accuracy: 0.9405\n",
      "Epoch 29/50\n",
      "24/24 [==============================] - 150s 6s/step - loss: 0.0192 - accuracy: 0.9973 - val_loss: 0.3537 - val_accuracy: 0.9351\n"
     ]
    }
   ],
   "source": [
    "from tensorflow.keras.callbacks import EarlyStopping\n",
    "early_stopping = EarlyStopping(monitor='accuracy', min_delta=0, patience=3, mode='max', baseline=None,\n",
    "                               restore_best_weights=True)\n",
    "r = model.fit_generator(\n",
    "  training_set,\n",
    "  validation_data=validation,\n",
    "  epochs=50,\n",
    "  steps_per_epoch=len(training_set),\n",
    "  validation_steps=len(validation),\n",
    "  callbacks=[early_stopping]\n",
    ")"
   ]
  },
  {
   "cell_type": "code",
   "execution_count": 56,
   "metadata": {},
   "outputs": [
    {
     "name": "stdout",
     "output_type": "stream",
     "text": [
      "1/1 [==============================] - 0s 166ms/step\n",
      "[[7.4829406e-01 2.5150433e-01 3.5375126e-07 2.0136440e-04]]\n"
     ]
    },
    {
     "data": {
      "text/plain": [
       "0"
      ]
     },
     "execution_count": 56,
     "metadata": {},
     "output_type": "execute_result"
    }
   ],
   "source": [
    "img=image.load_img('Datasets/ECG Images of Myocardial Infarction Patients (240x12=2880)/MI (4).jpg',target_size=(224,224))\n",
    "x=image.img_to_array(img)\n",
    "import numpy as np\n",
    "x=np.expand_dims(x,axis=0)\n",
    "# img_data=preprocess_input(x)\n",
    "x.shape\n",
    "a = model.predict(x)\n",
    "print(a)\n",
    "np.argmax(a)"
   ]
  },
  {
   "cell_type": "code",
   "execution_count": 57,
   "metadata": {},
   "outputs": [],
   "source": [
    "model.save('model_VGG19.h5')"
   ]
  },
  {
   "cell_type": "code",
   "execution_count": 58,
   "metadata": {},
   "outputs": [
    {
     "data": {
      "text/plain": [
       "['ECG Images of Myocardial Infarction Patients (240x12=2880)',\n",
       " 'ECG Images of Patient that have History of MI (172x12=2064)',\n",
       " 'ECG Images of Patient that have abnormal heartbeat (233x12=2796)',\n",
       " 'Normal Person ECG Images (284x12=3408)']"
      ]
     },
     "execution_count": 58,
     "metadata": {},
     "output_type": "execute_result"
    }
   ],
   "source": [
    "class_names = training_set.class_names\n",
    "class_names"
   ]
  },
  {
   "cell_type": "code",
   "execution_count": 59,
   "metadata": {},
   "outputs": [
    {
     "data": {
      "image/png": "[encoded data removed]",
      "text/plain": [
       "<Figure size 432x288 with 1 Axes>"
      ]
     },
     "metadata": {
      "needs_background": "light"
     },
     "output_type": "display_data"
    },
    {
     "data": {
      "text/plain": [
       "<Figure size 432x288 with 0 Axes>"
      ]
     },
     "metadata": {},
     "output_type": "display_data"
    }
   ],
   "source": [
    "import matplotlib.pyplot as plt\n",
    "\n",
    "plt.plot(r.history['loss'], label='train loss')\n",
    "plt.plot(r.history['val_loss'], label='val loss')\n",
    "plt.legend()\n",
    "plt.show()\n",
    "plt.savefig('LossVal_loss')"
   ]
  },
  {
   "cell_type": "code",
   "execution_count": 60,
   "metadata": {},
   "outputs": [
    {
     "data": {
      "image/png": "[encoded data removed]",
      "text/plain": [
       "<Figure size 432x288 with 1 Axes>"
      ]
     },
     "metadata": {
      "needs_background": "light"
     },
     "output_type": "display_data"
    },
    {
     "data": {
      "text/plain": [
       "<Figure size 432x288 with 0 Axes>"
      ]
     },
     "metadata": {},
     "output_type": "display_data"
    }
   ],
   "source": [
    "# plot the accuracy\n",
    "plt.plot(r.history['accuracy'], label='train accuracy')\n",
    "plt.plot(r.history['val_accuracy'], label='val accuracy')\n",
    "plt.legend()\n",
    "plt.show()\n",
    "plt.savefig('AccVal_acc')"
   ]
  },
  {
   "cell_type": "markdown",
   "metadata": {},
   "source": [
    "## ***THE END*** "
   ]
  },
  {
   "cell_type": "markdown",
   "metadata": {},
   "source": []
  }
 ],
 "metadata": {
  "kernelspec": {
   "display_name": "Python 3",
   "language": "python",
   "name": "python3"
  },
  "language_info": {
   "codemirror_mode": {
    "name": "ipython",
    "version": 3
   },
   "file_extension": ".py",
   "mimetype": "text/x-python",
   "name": "python",
   "nbconvert_exporter": "python",
   "pygments_lexer": "ipython3",
   "version": "3.8.5"
  },
  "vscode": {
   "interpreter": {
    "hash": "f89666fa23ff9f71a02df99620570820bcddf40dfe954d7d4ab5c98dadc4d2d8"
   }
  }
 },
 "nbformat": 4,
 "nbformat_minor": 2
}
